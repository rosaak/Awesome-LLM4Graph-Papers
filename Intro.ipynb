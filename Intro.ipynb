{
  "nbformat": 4,
  "nbformat_minor": 0,
  "metadata": {
    "colab": {
      "provenance": [],
      "toc_visible": true,
      "authorship_tag": "ABX9TyPizX4sc2mxG1TnESOF4R6G",
      "include_colab_link": true
    },
    "kernelspec": {
      "name": "python3",
      "display_name": "Python 3"
    },
    "language_info": {
      "name": "python"
    }
  },
  "cells": [
    {
      "cell_type": "markdown",
      "metadata": {
        "id": "view-in-github",
        "colab_type": "text"
      },
      "source": [
        "<a href=\"https://colab.research.google.com/github/rosaak/Awesome-LLM4Graph-Papers/blob/main/Intro.ipynb\" target=\"_parent\"><img src=\"https://colab.research.google.com/assets/colab-badge.svg\" alt=\"Open In Colab\"/></a>"
      ]
    },
    {
      "cell_type": "markdown",
      "source": [
        "# Python Statistics Essential Training\n",
        "Python is crucial for data analysis and interpretation in statistics. This course teaches data collection, cleaning, analysis, and visualization using Python.\n",
        "- Matt Harrison\n"
      ],
      "metadata": {
        "id": "5HOdXumcSXLc"
      }
    },
    {
      "cell_type": "code",
      "source": [],
      "metadata": {
        "id": "7Pwd4t9mSlH_"
      },
      "execution_count": null,
      "outputs": []
    }
  ]
}